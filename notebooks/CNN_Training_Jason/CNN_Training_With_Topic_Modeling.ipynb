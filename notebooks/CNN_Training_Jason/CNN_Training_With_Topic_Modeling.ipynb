{
  "nbformat": 4,
  "nbformat_minor": 0,
  "metadata": {
    "colab": {
      "name": "CNN_Training_With_Topic_Modeling",
      "provenance": [],
      "collapsed_sections": [],
      "machine_shape": "hm"
    },
    "kernelspec": {
      "name": "python3",
      "display_name": "Python 3"
    },
    "language_info": {
      "name": "python"
    },
    "accelerator": "GPU"
  },
  "cells": [
    {
      "cell_type": "markdown",
      "metadata": {
        "id": "Ulkqg44lPcVP"
      },
      "source": [
        "## Conduct the CNN model training based on the im2recipe image dataset and the topic modeling(NMF)"
      ]
    },
    {
      "cell_type": "markdown",
      "metadata": {
        "id": "dXIAqoeb1VIR"
      },
      "source": [
        "# This is the dataframe modified based on Chelsea's topic modeling"
      ]
    },
    {
      "cell_type": "code",
      "metadata": {
        "colab": {
          "base_uri": "https://localhost:8080/"
        },
        "id": "rvG8xCqQ1ZUd",
        "outputId": "3f0bbe1d-6c0c-4084-c74a-061296e2fd9b"
      },
      "source": [
        "from google.colab import drive\n",
        "drive.mount('/content/gdrive')\n",
        "import os, csv\n",
        "import json  \n",
        "import pandas as pd\n",
        "import numpy as np\n",
        "import re\n",
        "import gensim\n",
        "from gensim.utils import simple_preprocess\n",
        "import nltk\n",
        "nltk.download('stopwords')\n",
        "from nltk.corpus import stopwords\n",
        "import gensim.corpora as corpora\n",
        "from operator import itemgetter\n",
        "import operator\n",
        "import pickle\n",
        "from sklearn.manifold import TSNE\n",
        "from sklearn.feature_extraction.text import TfidfVectorizer, CountVectorizer\n",
        "from sklearn.decomposition import NMF\n",
        "import torch\n",
        "import torch.nn as nn\n",
        "import torch.optim as optim\n",
        "import torch.utils.data as data\n",
        "import torchvision\n",
        "from torchvision import models, transforms\n",
        "import cv2\n",
        "import matplotlib.pyplot as plt\n",
        "from torch.utils.data import Dataset, DataLoader \n",
        "import time\n",
        "import copy\n",
        "import torch.nn.functional as F"
      ],
      "execution_count": 70,
      "outputs": [
        {
          "output_type": "stream",
          "text": [
            "Drive already mounted at /content/gdrive; to attempt to forcibly remount, call drive.mount(\"/content/gdrive\", force_remount=True).\n",
            "[nltk_data] Downloading package stopwords to /root/nltk_data...\n",
            "[nltk_data]   Package stopwords is already up-to-date!\n"
          ],
          "name": "stdout"
        }
      ]
    },
    {
      "cell_type": "code",
      "metadata": {
        "id": "sncM_cbK1anI"
      },
      "source": [
        "os.chdir(\"/content/gdrive/My Drive/2021 Summer CS7643 Share Folder/data/recipe1M\")\n",
        "layer1 = json.load(open(\"layer1.json\", \"r\"))\n",
        "layer2 = json.load(open(\"layer2.json\", \"r\"))"
      ],
      "execution_count": 2,
      "outputs": []
    },
    {
      "cell_type": "code",
      "metadata": {
        "id": "Lp_79LvZ1aqb"
      },
      "source": [
        "\"\"\"\n",
        "# Train only\n",
        "layer1_train = []\n",
        "for i in range(len(layer1)):\n",
        "  temp = {}\n",
        "  if layer1[i][\"partition\"] == \"train\":\n",
        "    temp[\"id\"] = layer1[i][\"id\"]\n",
        "    temp['title'] = layer1[i]['title']\n",
        "    layer1_train.append(temp)\n",
        "df_title_train = pd.DataFrame(layer1_train)\n",
        "\n",
        "# Remove everything that is not alphanumeric or underscore\n",
        "df_title_train['title_clean'] = df_title_train['title'].apply(lambda x: re.sub(r'[^\\w]', ' ', x))\n",
        "\n",
        "# Convert the titles to lowercase\n",
        "df_title_train['title_clean'] = df_title_train['title_clean'].apply(lambda x: x.lower())\n",
        "#len(set(df_title[\"title_clean\"])) #790673 unique title vs. \n",
        "#df_title_train.to_csv(\"layer1_title_train.csv\"))\n",
        "\"\"\""
      ],
      "execution_count": null,
      "outputs": []
    },
    {
      "cell_type": "code",
      "metadata": {
        "id": "DxUsxB19x3v7",
        "colab": {
          "base_uri": "https://localhost:8080/"
        },
        "outputId": "bde7bfef-fe77-414c-a69c-9a6191c8a3f7"
      },
      "source": [
        "# Valid only\n",
        "layer1_val = []\n",
        "for i in range(len(layer1)):\n",
        "  temp = {}\n",
        "  if layer1[i][\"partition\"] == \"val\":\n",
        "    temp[\"id\"] = layer1[i][\"id\"]\n",
        "    temp['title'] = layer1[i]['title']\n",
        "    layer1_val.append(temp)\n",
        "df_title_val = pd.DataFrame(layer1_val)\n",
        "\n",
        "# Remove everything that is not alphanumeric or underscore\n",
        "df_title_val['title_clean'] = df_title_val['title'].apply(lambda x: re.sub(r'[^\\w]', ' ', x))\n",
        "\n",
        "# Convert the titles to lowercase\n",
        "df_title_val['title_clean'] = df_title_val['title_clean'].apply(lambda x: x.lower())\n",
        "print(df_title_val)\n",
        "#len(set(df_title[\"title_clean\"])) #790673 unique title vs. \n"
      ],
      "execution_count": 3,
      "outputs": [
        {
          "output_type": "stream",
          "text": [
            "                id  ...                                title_clean\n",
            "0       00011e0b2c  ...                    steak   asparagus wraps\n",
            "1       00011fc1f9  ...                     lentils vegetable soup\n",
            "2       000128a538  ...                            harrison muesli\n",
            "3       00025af750  ...   spanish spiked gazpacho in cucumber cups\n",
            "4       00029df38f  ...                             praline kisses\n",
            "...            ...  ...                                        ...\n",
            "155031  fffe6545e6  ...  baked pasta with sausage and tomato pesto\n",
            "155032  fffe89ea7e  ...                    fennel prawn conchiglie\n",
            "155033  fffebe68b3  ...                        easy fattoush salad\n",
            "155034  ffff03a753  ...                      kidney beans and corn\n",
            "155035  ffffbb45d2  ...           baumkuchen    the king of cakes \n",
            "\n",
            "[155036 rows x 3 columns]\n"
          ],
          "name": "stdout"
        }
      ]
    },
    {
      "cell_type": "code",
      "metadata": {
        "id": "tWNxunx93hiQ"
      },
      "source": [
        "df_title_val.to_csv(\"layer1_title_val.csv\")"
      ],
      "execution_count": 4,
      "outputs": []
    },
    {
      "cell_type": "code",
      "metadata": {
        "colab": {
          "base_uri": "https://localhost:8080/",
          "height": 52
        },
        "id": "rhZFriZX37oW",
        "outputId": "d795654d-fd2a-4bf6-a9b1-f4cdeb72c9e7"
      },
      "source": [
        "# Generate the LDA model based on 20% of training data\n",
        "stop_words = stopwords.words('english')\n",
        "#may need to add more stop words such as recipe\n",
        "stop_words.extend(['from', 'with', 'and', 'recipe', 'in', 'a', 's'])\n",
        "def sent_to_words(sentences):\n",
        "    for sentence in sentences:\n",
        "        # deacc=True removes punctuations\n",
        "        yield(gensim.utils.simple_preprocess(str(sentence), deacc=True))\n",
        "def remove_stopwords(texts):\n",
        "    return [[word.strip() for word in simple_preprocess(str(doc)) \n",
        "             if word.strip() not in stop_words] for doc in texts]\n",
        "data = df_title_val[\"title_clean\"].values.tolist()\n",
        "data_words = list(sent_to_words(data))\n",
        "# remove stop words\n",
        "data_words = remove_stopwords(data_words)\n",
        "#data_words[:20] # list if list with individual words in recipe title eg: ['worlds', 'best', 'mac', 'cheese']\n",
        "\n",
        "\"\"\"\n",
        "# stop words are removed completely\n",
        "count = 0\n",
        "for i in data_words:\n",
        "  for word in i:\n",
        "    if word in [\"recipe\", 'from', 'with', 'and', 'recipe', 'in', 'a', 's']:\n",
        "      count += 1\n",
        "print(count)\n",
        "\"\"\""
      ],
      "execution_count": 5,
      "outputs": [
        {
          "output_type": "execute_result",
          "data": {
            "application/vnd.google.colaboratory.intrinsic+json": {
              "type": "string"
            },
            "text/plain": [
              "'\\n# stop words are removed completely\\ncount = 0\\nfor i in data_words:\\n  for word in i:\\n    if word in [\"recipe\", \\'from\\', \\'with\\', \\'and\\', \\'recipe\\', \\'in\\', \\'a\\', \\'s\\']:\\n      count += 1\\nprint(count)\\n'"
            ]
          },
          "metadata": {
            "tags": []
          },
          "execution_count": 5
        }
      ]
    },
    {
      "cell_type": "code",
      "metadata": {
        "id": "J_lPq5V9B4Ua"
      },
      "source": [
        "# rejoin the tokens to form strings which will be used to vectorize\n",
        "#https://shravan-kuchkula.github.io/topic-modeling/#data-gathering-and-normalization \n",
        "#df = pd.read_csv(\"sub_train_title_LDA.csv\")\n",
        "#data_samples = df[\"title_clean\"]\n",
        "data_samples = [' '.join(item) for item in data_words]\n",
        "tfidf_vectorizer = TfidfVectorizer(max_df=0.99, max_features=None)\n",
        "tfidf = tfidf_vectorizer.fit_transform(data_samples) #tfidf.shape #(144128, 21930)\n",
        "tfidf_feature_names = tfidf_vectorizer.get_feature_names()"
      ],
      "execution_count": 6,
      "outputs": []
    },
    {
      "cell_type": "code",
      "metadata": {
        "colab": {
          "base_uri": "https://localhost:8080/"
        },
        "id": "4FupyOYbB4Wy",
        "outputId": "5a8f0233-fbab-43b1-f1ff-370562356e17"
      },
      "source": [
        "n_topics = 300\n",
        "nmf_300 = NMF(n_components=n_topics, random_state=1, alpha=.1, l1_ratio=.5, verbose=2, max_iter=5).fit(tfidf)"
      ],
      "execution_count": 7,
      "outputs": [
        {
          "output_type": "stream",
          "text": [
            "violation: 1.0\n",
            "violation: 0.09097869529785488\n",
            "violation: 0.04006592010450302\n",
            "violation: 0.02146293049350556\n",
            "violation: 0.011829907184339659\n"
          ],
          "name": "stdout"
        }
      ]
    },
    {
      "cell_type": "code",
      "metadata": {
        "colab": {
          "base_uri": "https://localhost:8080/",
          "height": 203
        },
        "id": "SkP0iw-WB4ZC",
        "outputId": "bad97c8c-b94e-4edf-c707-a8835a70da2e"
      },
      "source": [
        "# Return Top X (here top 5) words per topic\n",
        "\n",
        "def save_top_words(model, feature_names, n_top_words):\n",
        "    top_words = []\n",
        "    for topic_idx, topic in enumerate(model.components_): \n",
        "      temp = {}\n",
        "      temp[\"topic_id\"] = topic_idx\n",
        "      temp[\"topic_wd\"] = \" \".join([feature_names[i] for i in topic.argsort()[:-n_top_words - 1:-1]])\n",
        "      top_words.append(temp)\n",
        "    top_words = pd.DataFrame(top_words)\n",
        "    return top_words\n",
        "\n",
        "df_tw = save_top_words(nmf_300, tfidf_feature_names, 5)\n",
        "df_tw.head()\n",
        "\n",
        "#May need to use the following for frequency check and further clean dataset\n",
        "#word frequency quick check\n",
        "#freq = df_tw[\"topic_wd\"].str.split(expand=True).stack().value_counts()\n",
        "#pd.DataFrame(freq).to_csv(\"ingr_freq.csv\")"
      ],
      "execution_count": 8,
      "outputs": [
        {
          "output_type": "execute_result",
          "data": {
            "text/html": [
              "<div>\n",
              "<style scoped>\n",
              "    .dataframe tbody tr th:only-of-type {\n",
              "        vertical-align: middle;\n",
              "    }\n",
              "\n",
              "    .dataframe tbody tr th {\n",
              "        vertical-align: top;\n",
              "    }\n",
              "\n",
              "    .dataframe thead th {\n",
              "        text-align: right;\n",
              "    }\n",
              "</style>\n",
              "<table border=\"1\" class=\"dataframe\">\n",
              "  <thead>\n",
              "    <tr style=\"text-align: right;\">\n",
              "      <th></th>\n",
              "      <th>topic_id</th>\n",
              "      <th>topic_wd</th>\n",
              "    </tr>\n",
              "  </thead>\n",
              "  <tbody>\n",
              "    <tr>\n",
              "      <th>0</th>\n",
              "      <td>0</td>\n",
              "      <td>chicken wings breast dumplings buffalo</td>\n",
              "    </tr>\n",
              "    <tr>\n",
              "      <th>1</th>\n",
              "      <td>1</td>\n",
              "      <td>chocolate cake dark mousse covered</td>\n",
              "    </tr>\n",
              "    <tr>\n",
              "      <th>2</th>\n",
              "      <td>2</td>\n",
              "      <td>salad caesar dressing beet arugula</td>\n",
              "    </tr>\n",
              "    <tr>\n",
              "      <th>3</th>\n",
              "      <td>3</td>\n",
              "      <td>cauliflower soup cabbage tortellini minestrone</td>\n",
              "    </tr>\n",
              "    <tr>\n",
              "      <th>4</th>\n",
              "      <td>4</td>\n",
              "      <td>soup leek chilled hearty meatball</td>\n",
              "    </tr>\n",
              "  </tbody>\n",
              "</table>\n",
              "</div>"
            ],
            "text/plain": [
              "   topic_id                                        topic_wd\n",
              "0         0          chicken wings breast dumplings buffalo\n",
              "1         1              chocolate cake dark mousse covered\n",
              "2         2              salad caesar dressing beet arugula\n",
              "3         3  cauliflower soup cabbage tortellini minestrone\n",
              "4         4               soup leek chilled hearty meatball"
            ]
          },
          "metadata": {
            "tags": []
          },
          "execution_count": 8
        }
      ]
    },
    {
      "cell_type": "code",
      "metadata": {
        "colab": {
          "base_uri": "https://localhost:8080/"
        },
        "id": "XOBQNb-uB4dS",
        "outputId": "32ba0d44-c871-4425-928a-301bb1a82ddd"
      },
      "source": [
        "nmf_embedding = nmf_300.transform(tfidf) #W matitx \n",
        "# document membership weights across the k topics. Each row corresponds to a different document, and\n",
        "#each column corresponds to a topic\n",
        "#Shape: (144128, 300)\n",
        "#Sorting the values gives us a ranking of the most relevant documents for each topic"
      ],
      "execution_count": 9,
      "outputs": [
        {
          "output_type": "stream",
          "text": [
            "violation: 1.0\n",
            "violation: 0.02770199537023632\n",
            "violation: 0.0033312607564281436\n",
            "violation: 0.0008261872022965138\n",
            "violation: 0.00023664700648482907\n"
          ],
          "name": "stdout"
        }
      ]
    },
    {
      "cell_type": "code",
      "metadata": {
        "colab": {
          "base_uri": "https://localhost:8080/"
        },
        "id": "H39KYqa8486V",
        "outputId": "01959fb2-8b63-4f4d-bf1b-bb5d85e51128"
      },
      "source": [
        "print(nmf_embedding.shape)"
      ],
      "execution_count": 10,
      "outputs": [
        {
          "output_type": "stream",
          "text": [
            "(155036, 300)\n"
          ],
          "name": "stdout"
        }
      ]
    },
    {
      "cell_type": "code",
      "metadata": {
        "colab": {
          "base_uri": "https://localhost:8080/",
          "height": 35
        },
        "id": "GD7S0rmBB4gX",
        "outputId": "6fe757df-9fc4-4cd9-f93f-fbb02cb192e6"
      },
      "source": [
        "# 300 topic categories\n",
        "# returns the most relavant recipe per topic\n",
        "top_idx = np.argsort(nmf_embedding,axis=0)[-1:]\n",
        "show_300 = 300\n",
        "count_idxs = 0\n",
        "final_names = data_words\n",
        "topics_category_300 = []\n",
        "for idxs in top_idx.T:\n",
        "    if count_idxs == show_300: break\n",
        "    for idx in idxs:\n",
        "        #temp = (count_idxs,final_names[idx])\n",
        "      temp = {}\n",
        "      temp[\"topic_idx\"] = count_idxs\n",
        "      temp[\"topic\"] = final_names[idx]\n",
        "      topics_category_300.append(temp)\n",
        "\n",
        "    count_idxs += 1\n",
        "#topics_category_300\n",
        "#df_tpc300.iloc[:10]\n",
        "df_tpc300 = pd.DataFrame(topics_category_300)\n",
        "# df_tpc300.to_csv(\"topics_category_300.csv\")\n",
        "\n",
        "'''\n",
        "Manual evaluation may be required for 300 categories\n",
        "'''"
      ],
      "execution_count": 11,
      "outputs": [
        {
          "output_type": "execute_result",
          "data": {
            "application/vnd.google.colaboratory.intrinsic+json": {
              "type": "string"
            },
            "text/plain": [
              "'\\nManual evaluation may be required for 300 categories\\n'"
            ]
          },
          "metadata": {
            "tags": []
          },
          "execution_count": 11
        }
      ]
    },
    {
      "cell_type": "code",
      "metadata": {
        "colab": {
          "base_uri": "https://localhost:8080/"
        },
        "id": "i9VENwMrDP3X",
        "outputId": "d2211462-2c13-4a59-a07d-ba4a7de026cc"
      },
      "source": [
        "topics_category_300[26]"
      ],
      "execution_count": 12,
      "outputs": [
        {
          "output_type": "execute_result",
          "data": {
            "text/plain": [
              "{'topic': ['muffins'], 'topic_idx': 26}"
            ]
          },
          "metadata": {
            "tags": []
          },
          "execution_count": 12
        }
      ]
    },
    {
      "cell_type": "code",
      "metadata": {
        "colab": {
          "base_uri": "https://localhost:8080/"
        },
        "id": "-kEFXuLSDP_2",
        "outputId": "4d2599a3-b0ea-44fc-b7f7-52cbb1f15cdf"
      },
      "source": [
        "#Test 11th recipe\n",
        "predict_id = 100\n",
        "df_title_val.iloc[predict_id][\"title_clean\"] #baked beefy tomato rigatoni\n",
        "#import operator\n",
        "nmf_embedding[predict_id,:].round(2)\n",
        "my_list = nmf_embedding[predict_id].round(2)\n",
        "index, value = max(enumerate(my_list), key=operator.itemgetter(1))\n",
        "index #20\n",
        "topics_category_300[index] # ['baked', 'chicken'] "
      ],
      "execution_count": 13,
      "outputs": [
        {
          "output_type": "execute_result",
          "data": {
            "text/plain": [
              "{'topic': ['chicken'], 'topic_idx': 0}"
            ]
          },
          "metadata": {
            "tags": []
          },
          "execution_count": 13
        }
      ]
    },
    {
      "cell_type": "code",
      "metadata": {
        "colab": {
          "base_uri": "https://localhost:8080/"
        },
        "id": "9TC6RgMyDWsB",
        "outputId": "5b522280-9fed-4493-9bd5-6944e9a00d7c"
      },
      "source": [
        "df_title_val.iloc[100]"
      ],
      "execution_count": null,
      "outputs": [
        {
          "output_type": "execute_result",
          "data": {
            "text/plain": [
              "id                   002c521113\n",
              "title          Traditional Mead\n",
              "title_clean    traditional mead\n",
              "Name: 100, dtype: object"
            ]
          },
          "metadata": {
            "tags": []
          },
          "execution_count": 36
        }
      ]
    },
    {
      "cell_type": "code",
      "metadata": {
        "id": "8NyMUhoXDQCz"
      },
      "source": [
        "# THIS IS THE FINAL FUNCT FOR CATGORY PREDICTION\n",
        "def get_top_cat_for_recipe(recipes_all_list, w_vector):\n",
        "    final_recipes_cat_name = []\n",
        "    recipe_cat_link = []\n",
        "    for r in range(len(recipes_all_list)):\n",
        "        one_hot_matrix = w_vector[r,:]\n",
        "        all_zeros = not one_hot_matrix.any() # no fitting category\n",
        "        if all_zeros: recipe_cat_link.append(-1) # no fitting category\n",
        "        else:\n",
        "            top_indic = np.argsort(one_hot_matrix)[::-1][0] # 1. umdrehen 2. return erste\n",
        "            recipe_cat_link.append(top_indic)\n",
        "    for num in recipe_cat_link:\n",
        "        if num == -1: final_recipes_cat_name.append('no_cat')\n",
        "        else: final_recipes_cat_name.append(topics_category_300[num])\n",
        "    return final_recipes_cat_name\n",
        "\n",
        "categories_for_recipes = get_top_cat_for_recipe(df_title_val[\"title_clean\"], nmf_embedding)"
      ],
      "execution_count": 14,
      "outputs": []
    },
    {
      "cell_type": "code",
      "metadata": {
        "colab": {
          "base_uri": "https://localhost:8080/",
          "height": 417
        },
        "id": "OQ6VRR9CDQFa",
        "outputId": "68aaad45-ebbd-47d3-a12a-c938e1ca818f"
      },
      "source": [
        "df_title_val"
      ],
      "execution_count": 15,
      "outputs": [
        {
          "output_type": "execute_result",
          "data": {
            "text/html": [
              "<div>\n",
              "<style scoped>\n",
              "    .dataframe tbody tr th:only-of-type {\n",
              "        vertical-align: middle;\n",
              "    }\n",
              "\n",
              "    .dataframe tbody tr th {\n",
              "        vertical-align: top;\n",
              "    }\n",
              "\n",
              "    .dataframe thead th {\n",
              "        text-align: right;\n",
              "    }\n",
              "</style>\n",
              "<table border=\"1\" class=\"dataframe\">\n",
              "  <thead>\n",
              "    <tr style=\"text-align: right;\">\n",
              "      <th></th>\n",
              "      <th>id</th>\n",
              "      <th>title</th>\n",
              "      <th>title_clean</th>\n",
              "    </tr>\n",
              "  </thead>\n",
              "  <tbody>\n",
              "    <tr>\n",
              "      <th>0</th>\n",
              "      <td>00011e0b2c</td>\n",
              "      <td>Steak &amp; Asparagus Wraps</td>\n",
              "      <td>steak   asparagus wraps</td>\n",
              "    </tr>\n",
              "    <tr>\n",
              "      <th>1</th>\n",
              "      <td>00011fc1f9</td>\n",
              "      <td>Lentils Vegetable Soup</td>\n",
              "      <td>lentils vegetable soup</td>\n",
              "    </tr>\n",
              "    <tr>\n",
              "      <th>2</th>\n",
              "      <td>000128a538</td>\n",
              "      <td>Harrison Muesli</td>\n",
              "      <td>harrison muesli</td>\n",
              "    </tr>\n",
              "    <tr>\n",
              "      <th>3</th>\n",
              "      <td>00025af750</td>\n",
              "      <td>Spanish Spiked Gazpacho in Cucumber Cups</td>\n",
              "      <td>spanish spiked gazpacho in cucumber cups</td>\n",
              "    </tr>\n",
              "    <tr>\n",
              "      <th>4</th>\n",
              "      <td>00029df38f</td>\n",
              "      <td>Praline Kisses</td>\n",
              "      <td>praline kisses</td>\n",
              "    </tr>\n",
              "    <tr>\n",
              "      <th>...</th>\n",
              "      <td>...</td>\n",
              "      <td>...</td>\n",
              "      <td>...</td>\n",
              "    </tr>\n",
              "    <tr>\n",
              "      <th>155031</th>\n",
              "      <td>fffe6545e6</td>\n",
              "      <td>Baked Pasta With Sausage and Tomato Pesto</td>\n",
              "      <td>baked pasta with sausage and tomato pesto</td>\n",
              "    </tr>\n",
              "    <tr>\n",
              "      <th>155032</th>\n",
              "      <td>fffe89ea7e</td>\n",
              "      <td>Fennel-Prawn Conchiglie</td>\n",
              "      <td>fennel prawn conchiglie</td>\n",
              "    </tr>\n",
              "    <tr>\n",
              "      <th>155033</th>\n",
              "      <td>fffebe68b3</td>\n",
              "      <td>Easy Fattoush Salad</td>\n",
              "      <td>easy fattoush salad</td>\n",
              "    </tr>\n",
              "    <tr>\n",
              "      <th>155034</th>\n",
              "      <td>ffff03a753</td>\n",
              "      <td>Kidney Beans and Corn</td>\n",
              "      <td>kidney beans and corn</td>\n",
              "    </tr>\n",
              "    <tr>\n",
              "      <th>155035</th>\n",
              "      <td>ffffbb45d2</td>\n",
              "      <td>Baumkuchen -- the King of Cakes!</td>\n",
              "      <td>baumkuchen    the king of cakes</td>\n",
              "    </tr>\n",
              "  </tbody>\n",
              "</table>\n",
              "<p>155036 rows × 3 columns</p>\n",
              "</div>"
            ],
            "text/plain": [
              "                id  ...                                title_clean\n",
              "0       00011e0b2c  ...                    steak   asparagus wraps\n",
              "1       00011fc1f9  ...                     lentils vegetable soup\n",
              "2       000128a538  ...                            harrison muesli\n",
              "3       00025af750  ...   spanish spiked gazpacho in cucumber cups\n",
              "4       00029df38f  ...                             praline kisses\n",
              "...            ...  ...                                        ...\n",
              "155031  fffe6545e6  ...  baked pasta with sausage and tomato pesto\n",
              "155032  fffe89ea7e  ...                    fennel prawn conchiglie\n",
              "155033  fffebe68b3  ...                        easy fattoush salad\n",
              "155034  ffff03a753  ...                      kidney beans and corn\n",
              "155035  ffffbb45d2  ...           baumkuchen    the king of cakes \n",
              "\n",
              "[155036 rows x 3 columns]"
            ]
          },
          "metadata": {
            "tags": []
          },
          "execution_count": 15
        }
      ]
    },
    {
      "cell_type": "code",
      "metadata": {
        "colab": {
          "base_uri": "https://localhost:8080/"
        },
        "id": "auzJvXr9DQHu",
        "outputId": "f0de23ab-894a-4976-b28b-63f3fce9a469"
      },
      "source": [
        "categories_for_recipes[0]\n",
        "# len(categories_for_recipes)"
      ],
      "execution_count": 16,
      "outputs": [
        {
          "output_type": "execute_result",
          "data": {
            "text/plain": [
              "{'topic': ['lettuce', 'wraps'], 'topic_idx': 299}"
            ]
          },
          "metadata": {
            "tags": []
          },
          "execution_count": 16
        }
      ]
    },
    {
      "cell_type": "markdown",
      "metadata": {
        "id": "E5vffE1VFCFk"
      },
      "source": [
        "## Combine the orignal df with predicted recipe topic and index"
      ]
    },
    {
      "cell_type": "code",
      "metadata": {
        "id": "VAle-H-HDQKX"
      },
      "source": [
        "df_topic_index = df_title_val.copy()"
      ],
      "execution_count": 17,
      "outputs": []
    },
    {
      "cell_type": "code",
      "metadata": {
        "id": "MYluWsCCFFwT"
      },
      "source": [
        "topic_list = []\n",
        "topic_idx_list = []\n",
        "for i in range(len(categories_for_recipes)):\n",
        "  info = categories_for_recipes[i]\n",
        "  if info == \"no_cat\":\n",
        "    topic_list.append(\"No Cat\")\n",
        "    topic_idx_list.append(\"No Cat\")\n",
        "    continue\n",
        "  topic_list.append(info[\"topic\"])\n",
        "  topic_idx_list.append(info[\"topic_idx\"])\n"
      ],
      "execution_count": 18,
      "outputs": []
    },
    {
      "cell_type": "code",
      "metadata": {
        "id": "pUWgQvKhFFzO"
      },
      "source": [
        "df_topic_index[\"topic\"] = topic_list\n",
        "df_topic_index[\"topic_idx_list\"] = topic_idx_list"
      ],
      "execution_count": 19,
      "outputs": []
    },
    {
      "cell_type": "code",
      "metadata": {
        "colab": {
          "base_uri": "https://localhost:8080/",
          "height": 417
        },
        "id": "FbQgODmZFF32",
        "outputId": "ef970586-711b-4a7c-f19d-77c9d7bc9a02"
      },
      "source": [
        "  df_topic_index"
      ],
      "execution_count": 20,
      "outputs": [
        {
          "output_type": "execute_result",
          "data": {
            "text/html": [
              "<div>\n",
              "<style scoped>\n",
              "    .dataframe tbody tr th:only-of-type {\n",
              "        vertical-align: middle;\n",
              "    }\n",
              "\n",
              "    .dataframe tbody tr th {\n",
              "        vertical-align: top;\n",
              "    }\n",
              "\n",
              "    .dataframe thead th {\n",
              "        text-align: right;\n",
              "    }\n",
              "</style>\n",
              "<table border=\"1\" class=\"dataframe\">\n",
              "  <thead>\n",
              "    <tr style=\"text-align: right;\">\n",
              "      <th></th>\n",
              "      <th>id</th>\n",
              "      <th>title</th>\n",
              "      <th>title_clean</th>\n",
              "      <th>topic</th>\n",
              "      <th>topic_idx_list</th>\n",
              "    </tr>\n",
              "  </thead>\n",
              "  <tbody>\n",
              "    <tr>\n",
              "      <th>0</th>\n",
              "      <td>00011e0b2c</td>\n",
              "      <td>Steak &amp; Asparagus Wraps</td>\n",
              "      <td>steak   asparagus wraps</td>\n",
              "      <td>[lettuce, wraps]</td>\n",
              "      <td>299</td>\n",
              "    </tr>\n",
              "    <tr>\n",
              "      <th>1</th>\n",
              "      <td>00011fc1f9</td>\n",
              "      <td>Lentils Vegetable Soup</td>\n",
              "      <td>lentils vegetable soup</td>\n",
              "      <td>[soup]</td>\n",
              "      <td>4</td>\n",
              "    </tr>\n",
              "    <tr>\n",
              "      <th>2</th>\n",
              "      <td>000128a538</td>\n",
              "      <td>Harrison Muesli</td>\n",
              "      <td>harrison muesli</td>\n",
              "      <td>No Cat</td>\n",
              "      <td>No Cat</td>\n",
              "    </tr>\n",
              "    <tr>\n",
              "      <th>3</th>\n",
              "      <td>00025af750</td>\n",
              "      <td>Spanish Spiked Gazpacho in Cucumber Cups</td>\n",
              "      <td>spanish spiked gazpacho in cucumber cups</td>\n",
              "      <td>[spanish, steak, spanish, chicken]</td>\n",
              "      <td>291</td>\n",
              "    </tr>\n",
              "    <tr>\n",
              "      <th>4</th>\n",
              "      <td>00029df38f</td>\n",
              "      <td>Praline Kisses</td>\n",
              "      <td>praline kisses</td>\n",
              "      <td>[chicken, pecan]</td>\n",
              "      <td>80</td>\n",
              "    </tr>\n",
              "    <tr>\n",
              "      <th>...</th>\n",
              "      <td>...</td>\n",
              "      <td>...</td>\n",
              "      <td>...</td>\n",
              "      <td>...</td>\n",
              "      <td>...</td>\n",
              "    </tr>\n",
              "    <tr>\n",
              "      <th>155031</th>\n",
              "      <td>fffe6545e6</td>\n",
              "      <td>Baked Pasta With Sausage and Tomato Pesto</td>\n",
              "      <td>baked pasta with sausage and tomato pesto</td>\n",
              "      <td>[pesto]</td>\n",
              "      <td>17</td>\n",
              "    </tr>\n",
              "    <tr>\n",
              "      <th>155032</th>\n",
              "      <td>fffe89ea7e</td>\n",
              "      <td>Fennel-Prawn Conchiglie</td>\n",
              "      <td>fennel prawn conchiglie</td>\n",
              "      <td>[fennel, coleslaw]</td>\n",
              "      <td>278</td>\n",
              "    </tr>\n",
              "    <tr>\n",
              "      <th>155033</th>\n",
              "      <td>fffebe68b3</td>\n",
              "      <td>Easy Fattoush Salad</td>\n",
              "      <td>easy fattoush salad</td>\n",
              "      <td>[salad]</td>\n",
              "      <td>2</td>\n",
              "    </tr>\n",
              "    <tr>\n",
              "      <th>155034</th>\n",
              "      <td>ffff03a753</td>\n",
              "      <td>Kidney Beans and Corn</td>\n",
              "      <td>kidney beans and corn</td>\n",
              "      <td>[corn, salad]</td>\n",
              "      <td>38</td>\n",
              "    </tr>\n",
              "    <tr>\n",
              "      <th>155035</th>\n",
              "      <td>ffffbb45d2</td>\n",
              "      <td>Baumkuchen -- the King of Cakes!</td>\n",
              "      <td>baumkuchen    the king of cakes</td>\n",
              "      <td>[cake, cakes]</td>\n",
              "      <td>201</td>\n",
              "    </tr>\n",
              "  </tbody>\n",
              "</table>\n",
              "<p>155036 rows × 5 columns</p>\n",
              "</div>"
            ],
            "text/plain": [
              "                id  ... topic_idx_list\n",
              "0       00011e0b2c  ...            299\n",
              "1       00011fc1f9  ...              4\n",
              "2       000128a538  ...         No Cat\n",
              "3       00025af750  ...            291\n",
              "4       00029df38f  ...             80\n",
              "...            ...  ...            ...\n",
              "155031  fffe6545e6  ...             17\n",
              "155032  fffe89ea7e  ...            278\n",
              "155033  fffebe68b3  ...              2\n",
              "155034  ffff03a753  ...             38\n",
              "155035  ffffbb45d2  ...            201\n",
              "\n",
              "[155036 rows x 5 columns]"
            ]
          },
          "metadata": {
            "tags": []
          },
          "execution_count": 20
        }
      ]
    },
    {
      "cell_type": "code",
      "metadata": {
        "id": "fQkRrEJ6W-uQ"
      },
      "source": [
        "  df_mini = df_topic_index[0:1000]"
      ],
      "execution_count": 21,
      "outputs": []
    },
    {
      "cell_type": "markdown",
      "metadata": {
        "id": "5-ryhabRKqRA"
      },
      "source": [
        "## Traverse recipe id in df, find cooresponding image - create a dict {img_id : recipe id}"
      ]
    },
    {
      "cell_type": "code",
      "metadata": {
        "id": "LtzjlkXdLrLC"
      },
      "source": [
        "# input: recipe id, output: images.jpg(url could be printed here if needed)\n",
        "def recipeid_to_image(recipe_id, print_url = False):\n",
        "    images = []\n",
        "    for food in layer2:\n",
        "        if food.get(\"id\") == recipe_id:\n",
        "            image_list = food.get(\"images\")\n",
        "            for image in image_list:\n",
        "                image_id = image.get(\"id\")\n",
        "                image_url = image.get(\"url\")\n",
        "                if print_url:\n",
        "                    print(image_url) # this could be used for debug\n",
        "                images.append(image_id)\n",
        "            break\n",
        "    return images\n",
        "\n",
        "# input: recipe id, output: recipe details \n",
        "#                          (target_title, target_partition, target_url, target_ingredients, target_instructions)\n",
        "def recipeid_to_details(recipe_id):\n",
        "    target_ingredients = None\n",
        "    target_url = None\n",
        "    target_partition = None\n",
        "    target_title = None\n",
        "    target_instructions = None\n",
        "\n",
        "    for recipe in layer1:\n",
        "        if recipe.get(\"id\") == recipe_id:\n",
        "            target_ingredients = recipe.get(\"ingredients\")\n",
        "            target_url = recipe.get(\"url\") \n",
        "            target_partition = recipe.get(\"partition\")\n",
        "            target_title = recipe.get(\"title\") \n",
        "            target_instructions = recipe.get(\"instructions\") \n",
        "            break\n",
        "    return (target_title, target_partition, target_url, target_ingredients, target_instructions)\n",
        "## layer_2 dict\n",
        "def create_layer2_dict():\n",
        "  layer2_dict = {}\n",
        "  for food in layer2:\n",
        "    recipe_id = food.get(\"id\")\n",
        "    image_list = food.get(\"images\")\n",
        "    image_names = []\n",
        "    for image in image_list:\n",
        "      image_names.append(image[\"id\"])\n",
        "    layer2_dict[recipe_id] = image_names\n",
        "  return layer2_dict\n",
        "\n",
        "def create_image_recipe_dict(this_df, layer2_dict):\n",
        "    img_recipe_dict = {}\n",
        "    for i in range(len(this_df)):\n",
        "        # print(i)\n",
        "        recipe_id = this_df.iloc[i][\"id\"]\n",
        "        recipe_title = this_df.iloc[i][\"title_clean\"]\n",
        "        recipe_topic = this_df.iloc[i][\"topic\"]\n",
        "        recipe_topic_idx = this_df.iloc[i][\"topic_idx_list\"]\n",
        "        # print(recipe_id)\n",
        "        image_list = layer2_dict.get(recipe_id)\n",
        "        # print(image_list)\n",
        "        if image_list is None:\n",
        "          continue\n",
        "        for image in image_list:\n",
        "            img_recipe_dict[image] = (recipe_id,recipe_title,recipe_topic,recipe_topic_idx )\n",
        "        ## =========== remove this line or modify the number of recipes ==================\n",
        "        # threshold = 100\n",
        "        # if i > threshold:\n",
        "        #   break\n",
        "    return img_recipe_dict"
      ],
      "execution_count": 22,
      "outputs": []
    },
    {
      "cell_type": "code",
      "metadata": {
        "id": "AvsgmiUeU9D8"
      },
      "source": [
        "# create dict first\n",
        "layer2_dict = create_layer2_dict()"
      ],
      "execution_count": 23,
      "outputs": []
    },
    {
      "cell_type": "code",
      "metadata": {
        "colab": {
          "base_uri": "https://localhost:8080/"
        },
        "id": "qekkXbRhMN9I",
        "outputId": "6e3e860a-8989-4c7a-8bbb-96194f00b815"
      },
      "source": [
        "layer2_dict.get(\"394551a921\")"
      ],
      "execution_count": 24,
      "outputs": [
        {
          "output_type": "execute_result",
          "data": {
            "text/plain": [
              "['05d2b162a5.jpg',\n",
              " '54d5b6244a.jpg',\n",
              " '663e0deb9a.jpg',\n",
              " '67d4cd4c9d.jpg',\n",
              " '906b2517fe.jpg']"
            ]
          },
          "metadata": {
            "tags": []
          },
          "execution_count": 24
        }
      ]
    },
    {
      "cell_type": "code",
      "metadata": {
        "id": "EKj7jmovYLyi"
      },
      "source": [
        "dict_mini = create_image_recipe_dict(df_mini, layer2_dict)"
      ],
      "execution_count": 25,
      "outputs": []
    },
    {
      "cell_type": "code",
      "metadata": {
        "id": "T9mERhb_UnE9"
      },
      "source": [
        "dict_mini"
      ],
      "execution_count": null,
      "outputs": []
    },
    {
      "cell_type": "code",
      "metadata": {
        "colab": {
          "base_uri": "https://localhost:8080/"
        },
        "id": "JlImAJJuNylM",
        "outputId": "dc6cdb09-5193-44d5-dcaa-daa815cc7c8c"
      },
      "source": [
        "# check if the image to recipe id matches or no\n",
        "target_recipe = \"00203e2b66\"\n",
        "image_list = recipeid_to_image(target_recipe, True)\n",
        "recipe_details = recipeid_to_details(target_recipe)\n",
        "print(image_list)\n",
        "print(\"\\n\", recipe_details)"
      ],
      "execution_count": 27,
      "outputs": [
        {
          "output_type": "stream",
          "text": [
            "http://img.sndimg.com/food/image/upload/w_512,h_512,c_fit,fl_progressive,q_95/v1/img/recipes/10/65/29/piclQqgzw.jpg\n",
            "http://img.sndimg.com/food/image/upload/w_512,h_512,c_fit,fl_progressive,q_95/v1/img/recipes/10/65/29/piclQ2Fga.jpg\n",
            "['002de6dd0d.jpg', '5cce32cce0.jpg']\n",
            "\n",
            " ('Swedish Butter Cookies', 'val', 'http://www.food.com/recipe/swedish-butter-cookies-106529', [{'text': '1 cup butter, softened'}, {'text': '1 cup sugar'}, {'text': '2 teaspoons maple syrup'}, {'text': '2 cups all-purpose flour'}, {'text': '1 teaspoon baking soda'}, {'text': \"2 tablespoons confectioners' sugar\"}], [{'text': 'In a mixing bowl, cream butter and sugar.'}, {'text': 'Add maple syrup; mix well.'}, {'text': 'Combine the flour and baking soda; gradually add to the creamed mixture.'}, {'text': 'Divide the dough into eight portions; Roll each portion into a 9-inch log.'}, {'text': 'Place 3-inches apart on ungreased baking sheets.'}, {'text': 'Bake at 300F for 25 minutes or until lightly browned.'}, {'text': 'Cut into 1-inch slices (I use a pizza cutter and go through all on a sheet at once).'}, {'text': 'Remove to wire racks to cool.'}, {'text': \"Dust with confectioners' sugar.\"}])\n"
          ],
          "name": "stdout"
        }
      ]
    },
    {
      "cell_type": "code",
      "metadata": {
        "colab": {
          "base_uri": "https://localhost:8080/"
        },
        "id": "Ek_Rs4g-LdNY",
        "outputId": "55a65723-d66e-478a-ce16-215e8784a0c9"
      },
      "source": [
        "target_recipe = \"017452624d\"\n",
        "recipeid_to_image(target_recipe, True)"
      ],
      "execution_count": 28,
      "outputs": [
        {
          "output_type": "stream",
          "text": [
            "http://images.media-allrecipes.com/userphotos/256x256/2592498.jpg\n",
            "http://images.media-allrecipes.com/userphotos/256x256/672683.jpg\n",
            "http://images.media-allrecipes.com/userphotos/256x256/1033182.jpg\n",
            "http://images.media-allrecipes.com/userphotos/256x256/1396112.jpg\n",
            "http://images.media-allrecipes.com/userphotos/256x256/1396114.jpg\n",
            "http://images.media-allrecipes.com/userphotos/256x256/1396111.jpg\n",
            "http://images.media-allrecipes.com/userphotos/256x256/42984.jpg\n"
          ],
          "name": "stdout"
        },
        {
          "output_type": "execute_result",
          "data": {
            "text/plain": [
              "['04ce282711.jpg',\n",
              " '3c54d77564.jpg',\n",
              " '6bc39c39c7.jpg',\n",
              " '823bf3dc42.jpg',\n",
              " 'b4ee80f519.jpg',\n",
              " 'b8bafe2205.jpg',\n",
              " 'cbd761dcf2.jpg']"
            ]
          },
          "metadata": {
            "tags": []
          },
          "execution_count": 28
        }
      ]
    },
    {
      "cell_type": "markdown",
      "metadata": {
        "id": "8ur9tG0QRHMQ"
      },
      "source": [
        "# Create all data frame which has image name & topic_idx"
      ]
    },
    {
      "cell_type": "code",
      "metadata": {
        "id": "qNQ5vFuvcBZq"
      },
      "source": [
        "df_all_info = pd.DataFrame(index = range(0, len(dict_mini)), columns=['Image name','Recipe ID','Title','Topic','Topic Index'])"
      ],
      "execution_count": 29,
      "outputs": []
    },
    {
      "cell_type": "code",
      "metadata": {
        "colab": {
          "base_uri": "https://localhost:8080/",
          "height": 417
        },
        "id": "ryJO1uyYdKpp",
        "outputId": "0149f32c-b742-4125-983d-daf83652634a"
      },
      "source": [
        "df_all_info"
      ],
      "execution_count": 30,
      "outputs": [
        {
          "output_type": "execute_result",
          "data": {
            "text/html": [
              "<div>\n",
              "<style scoped>\n",
              "    .dataframe tbody tr th:only-of-type {\n",
              "        vertical-align: middle;\n",
              "    }\n",
              "\n",
              "    .dataframe tbody tr th {\n",
              "        vertical-align: top;\n",
              "    }\n",
              "\n",
              "    .dataframe thead th {\n",
              "        text-align: right;\n",
              "    }\n",
              "</style>\n",
              "<table border=\"1\" class=\"dataframe\">\n",
              "  <thead>\n",
              "    <tr style=\"text-align: right;\">\n",
              "      <th></th>\n",
              "      <th>Image name</th>\n",
              "      <th>Recipe ID</th>\n",
              "      <th>Title</th>\n",
              "      <th>Topic</th>\n",
              "      <th>Topic Index</th>\n",
              "    </tr>\n",
              "  </thead>\n",
              "  <tbody>\n",
              "    <tr>\n",
              "      <th>0</th>\n",
              "      <td>NaN</td>\n",
              "      <td>NaN</td>\n",
              "      <td>NaN</td>\n",
              "      <td>NaN</td>\n",
              "      <td>NaN</td>\n",
              "    </tr>\n",
              "    <tr>\n",
              "      <th>1</th>\n",
              "      <td>NaN</td>\n",
              "      <td>NaN</td>\n",
              "      <td>NaN</td>\n",
              "      <td>NaN</td>\n",
              "      <td>NaN</td>\n",
              "    </tr>\n",
              "    <tr>\n",
              "      <th>2</th>\n",
              "      <td>NaN</td>\n",
              "      <td>NaN</td>\n",
              "      <td>NaN</td>\n",
              "      <td>NaN</td>\n",
              "      <td>NaN</td>\n",
              "    </tr>\n",
              "    <tr>\n",
              "      <th>3</th>\n",
              "      <td>NaN</td>\n",
              "      <td>NaN</td>\n",
              "      <td>NaN</td>\n",
              "      <td>NaN</td>\n",
              "      <td>NaN</td>\n",
              "    </tr>\n",
              "    <tr>\n",
              "      <th>4</th>\n",
              "      <td>NaN</td>\n",
              "      <td>NaN</td>\n",
              "      <td>NaN</td>\n",
              "      <td>NaN</td>\n",
              "      <td>NaN</td>\n",
              "    </tr>\n",
              "    <tr>\n",
              "      <th>...</th>\n",
              "      <td>...</td>\n",
              "      <td>...</td>\n",
              "      <td>...</td>\n",
              "      <td>...</td>\n",
              "      <td>...</td>\n",
              "    </tr>\n",
              "    <tr>\n",
              "      <th>769</th>\n",
              "      <td>NaN</td>\n",
              "      <td>NaN</td>\n",
              "      <td>NaN</td>\n",
              "      <td>NaN</td>\n",
              "      <td>NaN</td>\n",
              "    </tr>\n",
              "    <tr>\n",
              "      <th>770</th>\n",
              "      <td>NaN</td>\n",
              "      <td>NaN</td>\n",
              "      <td>NaN</td>\n",
              "      <td>NaN</td>\n",
              "      <td>NaN</td>\n",
              "    </tr>\n",
              "    <tr>\n",
              "      <th>771</th>\n",
              "      <td>NaN</td>\n",
              "      <td>NaN</td>\n",
              "      <td>NaN</td>\n",
              "      <td>NaN</td>\n",
              "      <td>NaN</td>\n",
              "    </tr>\n",
              "    <tr>\n",
              "      <th>772</th>\n",
              "      <td>NaN</td>\n",
              "      <td>NaN</td>\n",
              "      <td>NaN</td>\n",
              "      <td>NaN</td>\n",
              "      <td>NaN</td>\n",
              "    </tr>\n",
              "    <tr>\n",
              "      <th>773</th>\n",
              "      <td>NaN</td>\n",
              "      <td>NaN</td>\n",
              "      <td>NaN</td>\n",
              "      <td>NaN</td>\n",
              "      <td>NaN</td>\n",
              "    </tr>\n",
              "  </tbody>\n",
              "</table>\n",
              "<p>774 rows × 5 columns</p>\n",
              "</div>"
            ],
            "text/plain": [
              "    Image name Recipe ID Title Topic Topic Index\n",
              "0          NaN       NaN   NaN   NaN         NaN\n",
              "1          NaN       NaN   NaN   NaN         NaN\n",
              "2          NaN       NaN   NaN   NaN         NaN\n",
              "3          NaN       NaN   NaN   NaN         NaN\n",
              "4          NaN       NaN   NaN   NaN         NaN\n",
              "..         ...       ...   ...   ...         ...\n",
              "769        NaN       NaN   NaN   NaN         NaN\n",
              "770        NaN       NaN   NaN   NaN         NaN\n",
              "771        NaN       NaN   NaN   NaN         NaN\n",
              "772        NaN       NaN   NaN   NaN         NaN\n",
              "773        NaN       NaN   NaN   NaN         NaN\n",
              "\n",
              "[774 rows x 5 columns]"
            ]
          },
          "metadata": {
            "tags": []
          },
          "execution_count": 30
        }
      ]
    },
    {
      "cell_type": "code",
      "metadata": {
        "id": "0LS6ZLSwdKut"
      },
      "source": [
        "index = 0\n",
        "for key in dict_mini:\n",
        "  df_all_info.iloc[index][\"Image name\"] = key\n",
        "  value = dict_mini.get(key)\n",
        "  df_all_info.iloc[index][\"Recipe ID\"] = value[0]\n",
        "  df_all_info.iloc[index][\"Title\"] = value[1]\n",
        "  df_all_info.iloc[index][\"Topic\"] = value[2]\n",
        "  df_all_info.iloc[index][\"Topic Index\"] = value[3]\n",
        "  index += 1"
      ],
      "execution_count": 31,
      "outputs": []
    },
    {
      "cell_type": "code",
      "metadata": {
        "colab": {
          "base_uri": "https://localhost:8080/",
          "height": 417
        },
        "id": "87GcNChgdlfe",
        "outputId": "208567e2-c23c-47b2-9247-28da85b425b7"
      },
      "source": [
        "df_all_info"
      ],
      "execution_count": 32,
      "outputs": [
        {
          "output_type": "execute_result",
          "data": {
            "text/html": [
              "<div>\n",
              "<style scoped>\n",
              "    .dataframe tbody tr th:only-of-type {\n",
              "        vertical-align: middle;\n",
              "    }\n",
              "\n",
              "    .dataframe tbody tr th {\n",
              "        vertical-align: top;\n",
              "    }\n",
              "\n",
              "    .dataframe thead th {\n",
              "        text-align: right;\n",
              "    }\n",
              "</style>\n",
              "<table border=\"1\" class=\"dataframe\">\n",
              "  <thead>\n",
              "    <tr style=\"text-align: right;\">\n",
              "      <th></th>\n",
              "      <th>Image name</th>\n",
              "      <th>Recipe ID</th>\n",
              "      <th>Title</th>\n",
              "      <th>Topic</th>\n",
              "      <th>Topic Index</th>\n",
              "    </tr>\n",
              "  </thead>\n",
              "  <tbody>\n",
              "    <tr>\n",
              "      <th>0</th>\n",
              "      <td>665bbeafc7.jpg</td>\n",
              "      <td>00029f71f7</td>\n",
              "      <td>apple carrot bones  dog treat</td>\n",
              "      <td>[carrot, salad]</td>\n",
              "      <td>98</td>\n",
              "    </tr>\n",
              "    <tr>\n",
              "      <th>1</th>\n",
              "      <td>87aea5035b.jpg</td>\n",
              "      <td>00029f71f7</td>\n",
              "      <td>apple carrot bones  dog treat</td>\n",
              "      <td>[carrot, salad]</td>\n",
              "      <td>98</td>\n",
              "    </tr>\n",
              "    <tr>\n",
              "      <th>2</th>\n",
              "      <td>a97924d704.jpg</td>\n",
              "      <td>0004c091a0</td>\n",
              "      <td>whole wheat waffles</td>\n",
              "      <td>[whole, wheat]</td>\n",
              "      <td>122</td>\n",
              "    </tr>\n",
              "    <tr>\n",
              "      <th>3</th>\n",
              "      <td>8e98aee7e1.jpg</td>\n",
              "      <td>000507ca6b</td>\n",
              "      <td>frosty strawberry squares</td>\n",
              "      <td>[cheese, squares]</td>\n",
              "      <td>188</td>\n",
              "    </tr>\n",
              "    <tr>\n",
              "      <th>4</th>\n",
              "      <td>7027a5c4f9.jpg</td>\n",
              "      <td>0006354bc3</td>\n",
              "      <td>irresistible peanut butter cookies</td>\n",
              "      <td>[peanut, butter]</td>\n",
              "      <td>10</td>\n",
              "    </tr>\n",
              "    <tr>\n",
              "      <th>...</th>\n",
              "      <td>...</td>\n",
              "      <td>...</td>\n",
              "      <td>...</td>\n",
              "      <td>...</td>\n",
              "      <td>...</td>\n",
              "    </tr>\n",
              "    <tr>\n",
              "      <th>769</th>\n",
              "      <td>be869ea3a0.jpg</td>\n",
              "      <td>01a51a098a</td>\n",
              "      <td>vibrant rainbow cake</td>\n",
              "      <td>[cake]</td>\n",
              "      <td>92</td>\n",
              "    </tr>\n",
              "    <tr>\n",
              "      <th>770</th>\n",
              "      <td>c4c632921f.jpg</td>\n",
              "      <td>01a51a098a</td>\n",
              "      <td>vibrant rainbow cake</td>\n",
              "      <td>[cake]</td>\n",
              "      <td>92</td>\n",
              "    </tr>\n",
              "    <tr>\n",
              "      <th>771</th>\n",
              "      <td>c990d54ae3.jpg</td>\n",
              "      <td>01a51a098a</td>\n",
              "      <td>vibrant rainbow cake</td>\n",
              "      <td>[cake]</td>\n",
              "      <td>92</td>\n",
              "    </tr>\n",
              "    <tr>\n",
              "      <th>772</th>\n",
              "      <td>eabf72c962.jpg</td>\n",
              "      <td>01a51a098a</td>\n",
              "      <td>vibrant rainbow cake</td>\n",
              "      <td>[cake]</td>\n",
              "      <td>92</td>\n",
              "    </tr>\n",
              "    <tr>\n",
              "      <th>773</th>\n",
              "      <td>f7f8257c6d.jpg</td>\n",
              "      <td>01a51a098a</td>\n",
              "      <td>vibrant rainbow cake</td>\n",
              "      <td>[cake]</td>\n",
              "      <td>92</td>\n",
              "    </tr>\n",
              "  </tbody>\n",
              "</table>\n",
              "<p>774 rows × 5 columns</p>\n",
              "</div>"
            ],
            "text/plain": [
              "         Image name   Recipe ID  ...              Topic Topic Index\n",
              "0    665bbeafc7.jpg  00029f71f7  ...    [carrot, salad]          98\n",
              "1    87aea5035b.jpg  00029f71f7  ...    [carrot, salad]          98\n",
              "2    a97924d704.jpg  0004c091a0  ...     [whole, wheat]         122\n",
              "3    8e98aee7e1.jpg  000507ca6b  ...  [cheese, squares]         188\n",
              "4    7027a5c4f9.jpg  0006354bc3  ...   [peanut, butter]          10\n",
              "..              ...         ...  ...                ...         ...\n",
              "769  be869ea3a0.jpg  01a51a098a  ...             [cake]          92\n",
              "770  c4c632921f.jpg  01a51a098a  ...             [cake]          92\n",
              "771  c990d54ae3.jpg  01a51a098a  ...             [cake]          92\n",
              "772  eabf72c962.jpg  01a51a098a  ...             [cake]          92\n",
              "773  f7f8257c6d.jpg  01a51a098a  ...             [cake]          92\n",
              "\n",
              "[774 rows x 5 columns]"
            ]
          },
          "metadata": {
            "tags": []
          },
          "execution_count": 32
        }
      ]
    },
    {
      "cell_type": "code",
      "metadata": {
        "id": "NLa2fXTJdqs-"
      },
      "source": [
        "df_all_info_with_cat = df_all_info[df_all_info.Topic != \"No Cat\"]"
      ],
      "execution_count": 33,
      "outputs": []
    },
    {
      "cell_type": "code",
      "metadata": {
        "colab": {
          "base_uri": "https://localhost:8080/",
          "height": 665
        },
        "id": "hhb1P2n88lrJ",
        "outputId": "3f2fe14d-525b-4935-a6b6-4b392683203a"
      },
      "source": [
        "df_all_info_with_cat[0:20]"
      ],
      "execution_count": 49,
      "outputs": [
        {
          "output_type": "execute_result",
          "data": {
            "text/html": [
              "<div>\n",
              "<style scoped>\n",
              "    .dataframe tbody tr th:only-of-type {\n",
              "        vertical-align: middle;\n",
              "    }\n",
              "\n",
              "    .dataframe tbody tr th {\n",
              "        vertical-align: top;\n",
              "    }\n",
              "\n",
              "    .dataframe thead th {\n",
              "        text-align: right;\n",
              "    }\n",
              "</style>\n",
              "<table border=\"1\" class=\"dataframe\">\n",
              "  <thead>\n",
              "    <tr style=\"text-align: right;\">\n",
              "      <th></th>\n",
              "      <th>Image name</th>\n",
              "      <th>Recipe ID</th>\n",
              "      <th>Title</th>\n",
              "      <th>Topic</th>\n",
              "      <th>Topic Index</th>\n",
              "    </tr>\n",
              "  </thead>\n",
              "  <tbody>\n",
              "    <tr>\n",
              "      <th>0</th>\n",
              "      <td>665bbeafc7.jpg</td>\n",
              "      <td>00029f71f7</td>\n",
              "      <td>apple carrot bones  dog treat</td>\n",
              "      <td>[carrot, salad]</td>\n",
              "      <td>98</td>\n",
              "    </tr>\n",
              "    <tr>\n",
              "      <th>1</th>\n",
              "      <td>87aea5035b.jpg</td>\n",
              "      <td>00029f71f7</td>\n",
              "      <td>apple carrot bones  dog treat</td>\n",
              "      <td>[carrot, salad]</td>\n",
              "      <td>98</td>\n",
              "    </tr>\n",
              "    <tr>\n",
              "      <th>2</th>\n",
              "      <td>a97924d704.jpg</td>\n",
              "      <td>0004c091a0</td>\n",
              "      <td>whole wheat waffles</td>\n",
              "      <td>[whole, wheat]</td>\n",
              "      <td>122</td>\n",
              "    </tr>\n",
              "    <tr>\n",
              "      <th>3</th>\n",
              "      <td>8e98aee7e1.jpg</td>\n",
              "      <td>000507ca6b</td>\n",
              "      <td>frosty strawberry squares</td>\n",
              "      <td>[cheese, squares]</td>\n",
              "      <td>188</td>\n",
              "    </tr>\n",
              "    <tr>\n",
              "      <th>4</th>\n",
              "      <td>7027a5c4f9.jpg</td>\n",
              "      <td>0006354bc3</td>\n",
              "      <td>irresistible peanut butter cookies</td>\n",
              "      <td>[peanut, butter]</td>\n",
              "      <td>10</td>\n",
              "    </tr>\n",
              "    <tr>\n",
              "      <th>5</th>\n",
              "      <td>fff3e1751a.jpg</td>\n",
              "      <td>0006354bc3</td>\n",
              "      <td>irresistible peanut butter cookies</td>\n",
              "      <td>[peanut, butter]</td>\n",
              "      <td>10</td>\n",
              "    </tr>\n",
              "    <tr>\n",
              "      <th>6</th>\n",
              "      <td>1fd9fdddd4.jpg</td>\n",
              "      <td>00081bb5ef</td>\n",
              "      <td>joe s pasta e fagiolo</td>\n",
              "      <td>[pasta]</td>\n",
              "      <td>24</td>\n",
              "    </tr>\n",
              "    <tr>\n",
              "      <th>7</th>\n",
              "      <td>0c901c0aee.jpg</td>\n",
              "      <td>000875a149</td>\n",
              "      <td>vietnamese chicken wings</td>\n",
              "      <td>[chicken]</td>\n",
              "      <td>0</td>\n",
              "    </tr>\n",
              "    <tr>\n",
              "      <th>8</th>\n",
              "      <td>15b1881e50.jpg</td>\n",
              "      <td>000875a149</td>\n",
              "      <td>vietnamese chicken wings</td>\n",
              "      <td>[chicken]</td>\n",
              "      <td>0</td>\n",
              "    </tr>\n",
              "    <tr>\n",
              "      <th>9</th>\n",
              "      <td>cc7ca17a88.jpg</td>\n",
              "      <td>00089c3010</td>\n",
              "      <td>easy italian style chili</td>\n",
              "      <td>[chicken, italian, style]</td>\n",
              "      <td>65</td>\n",
              "    </tr>\n",
              "    <tr>\n",
              "      <th>10</th>\n",
              "      <td>4cc1fc1205.jpg</td>\n",
              "      <td>0008b8f5bc</td>\n",
              "      <td>sachertorte cookies</td>\n",
              "      <td>[cookies]</td>\n",
              "      <td>15</td>\n",
              "    </tr>\n",
              "    <tr>\n",
              "      <th>11</th>\n",
              "      <td>8bd27b65f3.jpg</td>\n",
              "      <td>0008b8f5bc</td>\n",
              "      <td>sachertorte cookies</td>\n",
              "      <td>[cookies]</td>\n",
              "      <td>15</td>\n",
              "    </tr>\n",
              "    <tr>\n",
              "      <th>12</th>\n",
              "      <td>c09820985d.jpg</td>\n",
              "      <td>0008b8f5bc</td>\n",
              "      <td>sachertorte cookies</td>\n",
              "      <td>[cookies]</td>\n",
              "      <td>15</td>\n",
              "    </tr>\n",
              "    <tr>\n",
              "      <th>13</th>\n",
              "      <td>11b1647f61.jpg</td>\n",
              "      <td>0008fab425</td>\n",
              "      <td>tagliatelle with garlic  gorgonzola and basil</td>\n",
              "      <td>[basil, chicken]</td>\n",
              "      <td>147</td>\n",
              "    </tr>\n",
              "    <tr>\n",
              "      <th>14</th>\n",
              "      <td>24d7ee5cb0.jpg</td>\n",
              "      <td>0008fab425</td>\n",
              "      <td>tagliatelle with garlic  gorgonzola and basil</td>\n",
              "      <td>[basil, chicken]</td>\n",
              "      <td>147</td>\n",
              "    </tr>\n",
              "    <tr>\n",
              "      <th>15</th>\n",
              "      <td>9597f88ba0.jpg</td>\n",
              "      <td>0008fab425</td>\n",
              "      <td>tagliatelle with garlic  gorgonzola and basil</td>\n",
              "      <td>[basil, chicken]</td>\n",
              "      <td>147</td>\n",
              "    </tr>\n",
              "    <tr>\n",
              "      <th>16</th>\n",
              "      <td>ce75340717.jpg</td>\n",
              "      <td>0008fab425</td>\n",
              "      <td>tagliatelle with garlic  gorgonzola and basil</td>\n",
              "      <td>[basil, chicken]</td>\n",
              "      <td>147</td>\n",
              "    </tr>\n",
              "    <tr>\n",
              "      <th>17</th>\n",
              "      <td>6b40555086.jpg</td>\n",
              "      <td>000982e226</td>\n",
              "      <td>cheryl s veggie nut patties</td>\n",
              "      <td>[nut, cake]</td>\n",
              "      <td>153</td>\n",
              "    </tr>\n",
              "    <tr>\n",
              "      <th>18</th>\n",
              "      <td>c15298dd91.jpg</td>\n",
              "      <td>000b8a8c62</td>\n",
              "      <td>pbj crunch bars</td>\n",
              "      <td>[frittata]</td>\n",
              "      <td>298</td>\n",
              "    </tr>\n",
              "    <tr>\n",
              "      <th>19</th>\n",
              "      <td>82ce36880e.jpg</td>\n",
              "      <td>000d39d105</td>\n",
              "      <td>slow cooker french onion soup</td>\n",
              "      <td>[slow, cooker, chicken]</td>\n",
              "      <td>82</td>\n",
              "    </tr>\n",
              "  </tbody>\n",
              "</table>\n",
              "</div>"
            ],
            "text/plain": [
              "        Image name   Recipe ID  ...                      Topic Topic Index\n",
              "0   665bbeafc7.jpg  00029f71f7  ...            [carrot, salad]          98\n",
              "1   87aea5035b.jpg  00029f71f7  ...            [carrot, salad]          98\n",
              "2   a97924d704.jpg  0004c091a0  ...             [whole, wheat]         122\n",
              "3   8e98aee7e1.jpg  000507ca6b  ...          [cheese, squares]         188\n",
              "4   7027a5c4f9.jpg  0006354bc3  ...           [peanut, butter]          10\n",
              "5   fff3e1751a.jpg  0006354bc3  ...           [peanut, butter]          10\n",
              "6   1fd9fdddd4.jpg  00081bb5ef  ...                    [pasta]          24\n",
              "7   0c901c0aee.jpg  000875a149  ...                  [chicken]           0\n",
              "8   15b1881e50.jpg  000875a149  ...                  [chicken]           0\n",
              "9   cc7ca17a88.jpg  00089c3010  ...  [chicken, italian, style]          65\n",
              "10  4cc1fc1205.jpg  0008b8f5bc  ...                  [cookies]          15\n",
              "11  8bd27b65f3.jpg  0008b8f5bc  ...                  [cookies]          15\n",
              "12  c09820985d.jpg  0008b8f5bc  ...                  [cookies]          15\n",
              "13  11b1647f61.jpg  0008fab425  ...           [basil, chicken]         147\n",
              "14  24d7ee5cb0.jpg  0008fab425  ...           [basil, chicken]         147\n",
              "15  9597f88ba0.jpg  0008fab425  ...           [basil, chicken]         147\n",
              "16  ce75340717.jpg  0008fab425  ...           [basil, chicken]         147\n",
              "17  6b40555086.jpg  000982e226  ...                [nut, cake]         153\n",
              "18  c15298dd91.jpg  000b8a8c62  ...                 [frittata]         298\n",
              "19  82ce36880e.jpg  000d39d105  ...    [slow, cooker, chicken]          82\n",
              "\n",
              "[20 rows x 5 columns]"
            ]
          },
          "metadata": {
            "tags": []
          },
          "execution_count": 49
        }
      ]
    },
    {
      "cell_type": "code",
      "metadata": {
        "id": "3w_lfBkZfT2D"
      },
      "source": [
        "####### IMPORTANT LIST FOR TRAINING ##########\n",
        "img_array_list = []\n",
        "label_list = []\n",
        "img_dir = \"/content/gdrive/My Drive/2021 Summer CS7643 Share Folder/data/images/val\"\n",
        "############################################\n",
        "def read_image(image_dir, target_img_name):\n",
        "  first_dir = target_img_name[0]\n",
        "  second_dir = target_img_name[1]\n",
        "  third_dir = target_img_name[2]\n",
        "  forth_dir = target_img_name[3]\n",
        "  final_img_dir = image_dir + \"/\" + first_dir + \"/\" + second_dir + \"/\" + third_dir + \"/\" + forth_dir + \"/\" + target_img_name\n",
        "  img = plt.imread(final_img_dir)\n",
        "  return img\n",
        "\n",
        "\n",
        "\n",
        "# traverse all row in df_mini_batch and append the image array & title into list\n",
        "for i in range(df_all_info_with_cat.shape[0]):\n",
        "  #print(i)\n",
        "  selected_row = df_all_info_with_cat.iloc[i] # select ith row in df_mini_batch\n",
        "  selected_label = selected_row[\"Topic Index\"]\n",
        "  selected_img_name = selected_row[\"Image name\"]\n",
        "  img_array = read_image(img_dir, selected_img_name) # return a (h,w,channel) np array\n",
        "  # append into list\n",
        "  img_array_list.append(img_array)\n",
        "  label_list.append(selected_label)"
      ],
      "execution_count": null,
      "outputs": []
    },
    {
      "cell_type": "code",
      "metadata": {
        "colab": {
          "base_uri": "https://localhost:8080/",
          "height": 286
        },
        "id": "YvuD0LI4Fu62",
        "outputId": "a0acd339-ea9f-4d9a-a70a-2a6a10cf274f"
      },
      "source": [
        "# Create data for training from the list\n",
        "my_x = np.zeros((len(img_array_list), 299, 299, 3)) # Inception accepts (299,299,3) image\n",
        "for i in range(len(img_array_list)):\n",
        "  #print(img.shape)\n",
        "  img_new = cv2.resize(img_array_list[i], dsize=(299, 299), interpolation=cv2.INTER_CUBIC)\n",
        "  #print(img_new.shape)\n",
        "  my_x[i] = img_new\n",
        "#my_x = my_x.astype(int)\n",
        "plt.imshow(my_x[100].astype(int))"
      ],
      "execution_count": 66,
      "outputs": [
        {
          "output_type": "execute_result",
          "data": {
            "text/plain": [
              "<matplotlib.image.AxesImage at 0x7ffb5174a910>"
            ]
          },
          "metadata": {
            "tags": []
          },
          "execution_count": 66
        },
        {
          "output_type": "display_data",
          "data": {
            "image/png": "[encoded data removed]",
            "text/plain": [
              "<Figure size 432x288 with 1 Axes>"
            ]
          },
          "metadata": {
            "tags": [],
            "needs_background": "light"
          }
        }
      ]
    },
    {
      "cell_type": "code",
      "metadata": {
        "colab": {
          "base_uri": "https://localhost:8080/"
        },
        "id": "4iQFvPoOVSy8",
        "outputId": "7d010303-be4a-454a-b0f0-87773a056fff"
      },
      "source": [
        "label = np.zeros((df_all_info_with_cat.shape[0], 1))\n",
        "#for i in range(df_all_info_with_cat.shape[0]):\n",
        "#  label[i] = df_all_info_with_cat[\"Topic Index\"][i]\n",
        "#  print(i, label[i])\n",
        "i = 0\n",
        "for index, row in df_all_info_with_cat.iterrows():\n",
        "    label[i] = df_all_info_with_cat[\"Topic Index\"][index]\n",
        "    #print(i,label[i])\n",
        "    i += 1\n",
        "label = label.astype(int)\n",
        "print(label[17])"
      ],
      "execution_count": 136,
      "outputs": [
        {
          "output_type": "stream",
          "text": [
            "[153]\n"
          ],
          "name": "stdout"
        }
      ]
    },
    {
      "cell_type": "code",
      "metadata": {
        "id": "6lo0HCU9f7di"
      },
      "source": [
        "label_encoded = F.one_hot(torch.tensor(label), num_classes=300)"
      ],
      "execution_count": 132,
      "outputs": []
    },
    {
      "cell_type": "code",
      "metadata": {
        "id": "uWau9MjZAamS"
      },
      "source": [
        "# https://stackoverflow.com/questions/65594383/how-to-convert-dataset-of-images-to-tensor/65594790\n",
        "# Self define a class which iterates over the dataset\n",
        "class im2recipedataset(torch.utils.data.Dataset):\n",
        "    def __init__(self, img_array, label_array):\n",
        "      # load the dataset\n",
        "      self.dataset = img_array\n",
        "      self.label = label_array\n",
        "  \n",
        "    def __getitem__(self, idx):\n",
        "        data = self.dataset[idx]\n",
        "        label = self.label[idx]\n",
        "                \n",
        "        transform = transforms.Compose([\n",
        "            transforms.ToTensor(),\n",
        "            transforms.Normalize([0.485, 0.456, 0.406], [0.229, 0.224, 0.225])\n",
        "        ])\n",
        "        return transform(data), label\n",
        "\n",
        "    def __len__(self):\n",
        "        return len(self.dataset)"
      ],
      "execution_count": 116,
      "outputs": []
    },
    {
      "cell_type": "code",
      "metadata": {
        "id": "0Km4MaRoZXDE"
      },
      "source": [
        "train_set = im2recipedataset(my_x,label)\n",
        "valid_set = im2recipedataset(my_x,label)\n",
        "Data, label0 = train_set.__getitem__(0)\n",
        "\n",
        "train_dataloader = DataLoader(train_set, batch_size=64, shuffle=True)\n",
        "valid_dataloader = DataLoader(valid_set, batch_size=64, shuffle=True)\n",
        "dataloaders_dict = {\"train\":train_dataloader, \"val\": valid_dataloader}"
      ],
      "execution_count": 182,
      "outputs": []
    },
    {
      "cell_type": "code",
      "metadata": {
        "id": "uGzsLbh4ZUzZ"
      },
      "source": [
        "# ref: https://pytorch.org/tutorials/beginner/finetuning_torchvision_models_tutorial.html\n",
        "def set_parameter_requires_grad(model, feature_extracting):\n",
        "    if feature_extracting:\n",
        "        for param in model.parameters():\n",
        "            param.requires_grad = False\n",
        "\n",
        "def initialize_model(num_classes, feature_extract, use_pretrained=True):\n",
        "    # Initialize these variables which will be set in this if statement. Each of these\n",
        "    #   variables is model specific.\n",
        "    model_ft = None\n",
        "    input_size = 0\n",
        "\n",
        "    model_ft = models.inception_v3(pretrained=use_pretrained)\n",
        "    set_parameter_requires_grad(model_ft, feature_extract)\n",
        "    # Handle the auxilary net\n",
        "    num_ftrs = model_ft.AuxLogits.fc.in_features\n",
        "    model_ft.AuxLogits.fc = nn.Linear(num_ftrs, num_classes)\n",
        "    # Handle the primary net\n",
        "    num_ftrs = model_ft.fc.in_features\n",
        "    model_ft.fc = nn.Linear(num_ftrs,num_classes)\n",
        "    input_size = 299\n",
        "\n",
        "    return model_ft, input_size\n",
        "#  Flag for feature extracting. When False, we finetune the whole model,\n",
        "#  when True we only update the reshaped layer params\n",
        "feature_extract = True\n",
        "\n",
        "# Initialize the model for this run\n",
        "InceptionV3, input_size = initialize_model(300, feature_extract, use_pretrained=True)\n",
        "\n",
        "# Print the model we just instantiated\n",
        "#print(InceptionV3)"
      ],
      "execution_count": 175,
      "outputs": []
    },
    {
      "cell_type": "code",
      "metadata": {
        "id": "8zCAXXB6FhMX",
        "colab": {
          "base_uri": "https://localhost:8080/"
        },
        "outputId": "eccc4b3b-0e57-4101-844f-03236d3e6fec"
      },
      "source": [
        "# https://pytorch.org/tutorials/beginner/finetuning_torchvision_models_tutorial.html\n",
        "# Detect if we have a GPU available\n",
        "device = torch.device(\"cuda:0\" if torch.cuda.is_available() else \"cpu\")\n",
        "print(device)\n",
        "# Send the model to GPU\n",
        "InceptionV3 = InceptionV3.to(device)"
      ],
      "execution_count": 176,
      "outputs": [
        {
          "output_type": "stream",
          "text": [
            "cuda:0\n"
          ],
          "name": "stdout"
        }
      ]
    },
    {
      "cell_type": "code",
      "metadata": {
        "id": "MSf3rauCagl_",
        "colab": {
          "base_uri": "https://localhost:8080/"
        },
        "outputId": "24b661e5-9fec-47c8-8657-4bf9efbe0b48"
      },
      "source": [
        "params_to_update = InceptionV3.parameters()\n",
        "print(\"Params to learn:\")\n",
        "if feature_extract:\n",
        "    params_to_update = []\n",
        "    for name,param in InceptionV3.named_parameters():\n",
        "        if param.requires_grad == True:\n",
        "            params_to_update.append(param)\n",
        "            print(\"\\t\",name)\n",
        "else:\n",
        "    for name,param in model_ft.named_parameters():\n",
        "        if param.requires_grad == True:\n",
        "            print(\"\\t\",name)\n",
        "\n",
        "# Observe that all parameters are being optimized\n",
        "optimizer_ft = optim.SGD(params_to_update, lr=0.001, momentum=0.9)"
      ],
      "execution_count": 177,
      "outputs": [
        {
          "output_type": "stream",
          "text": [
            "Params to learn:\n",
            "\t AuxLogits.fc.weight\n",
            "\t AuxLogits.fc.bias\n",
            "\t fc.weight\n",
            "\t fc.bias\n"
          ],
          "name": "stdout"
        }
      ]
    },
    {
      "cell_type": "code",
      "metadata": {
        "id": "jqlYNX5_dVeZ"
      },
      "source": [
        "# Setup the loss fxn\n",
        "criterion = nn.CrossEntropyLoss()"
      ],
      "execution_count": 178,
      "outputs": []
    },
    {
      "cell_type": "code",
      "metadata": {
        "id": "Z_x9naQEdiyY"
      },
      "source": [
        "def train_model(model, dataloaders, criterion, optimizer, num_epochs=25, is_inception=False):\n",
        "    since = time.time()\n",
        "\n",
        "    val_acc_history = []\n",
        "    \n",
        "    best_model_wts = copy.deepcopy(model.state_dict())\n",
        "    best_acc = 0.0\n",
        "\n",
        "    for epoch in range(num_epochs):\n",
        "        print('Epoch {}/{}'.format(epoch, num_epochs - 1))\n",
        "        print('-' * 10)\n",
        "\n",
        "        # Each epoch has a training and validation phase\n",
        "        for phase in ['train', 'val']:\n",
        "            \n",
        "            if phase == 'train':\n",
        "                model.train()  # Set model to training mode\n",
        "            else:\n",
        "                model.eval()   # Set model to evaluate mode\n",
        "\n",
        "            running_loss = 0.0\n",
        "            running_corrects = 0\n",
        "\n",
        "            # Iterate over data.\n",
        "            for inputs, labels in dataloaders[phase]:\n",
        "                inputs = inputs.to(device)\n",
        "                inputs = inputs.type(torch.cuda.FloatTensor)\n",
        "                #print(inputs.shape)\n",
        "                labels = torch.squeeze(labels)\n",
        "                labels = labels.to(device)\n",
        "                #print(labels.shape)\n",
        "                #outputs, aux_outputs = model(inputs)\n",
        "                #print(outputs.shape)\n",
        "                #print(aux_outputs.shape)\n",
        "                # zero the parameter gradients\n",
        "                optimizer.zero_grad()\n",
        "\n",
        "                # forward\n",
        "                # track history if only in train\n",
        "                with torch.set_grad_enabled(phase == 'train'):\n",
        "                    # Get model outputs and calculate loss\n",
        "                    # Special case for inception because in training it has an auxiliary output. In train\n",
        "                    #   mode we calculate the loss by summing the final output and the auxiliary output\n",
        "                    #   but in testing we only consider the final output.\n",
        "                    if is_inception and phase == 'train':\n",
        "                        # From https://discuss.pytorch.org/t/how-to-optimize-inception-model-with-auxiliary-classifiers/7958\n",
        "                        outputs, aux_outputs = model(inputs)\n",
        "                        loss1 = criterion(outputs, labels)\n",
        "                        loss2 = criterion(aux_outputs, labels)\n",
        "                        loss = loss1 + 0.4*loss2\n",
        "                    else:\n",
        "                        outputs = model(inputs)\n",
        "                        loss = criterion(outputs, labels)\n",
        "\n",
        "                    _, preds = torch.max(outputs, 1)\n",
        "\n",
        "                    # backward + optimize only if in training phase\n",
        "                    if phase == 'train':\n",
        "                        loss.backward()\n",
        "                        optimizer.step()\n",
        "\n",
        "                # statistics\n",
        "                running_loss += loss.item() * inputs.size(0)\n",
        "                running_corrects += torch.sum(preds == labels.data)\n",
        "\n",
        "            epoch_loss = running_loss / len(dataloaders[phase].dataset)\n",
        "            epoch_acc = running_corrects.double() / len(dataloaders[phase].dataset)\n",
        "\n",
        "            print('{} Loss: {:.4f} Acc: {:.4f}'.format(phase, epoch_loss, epoch_acc))\n",
        "\n",
        "            # deep copy the model\n",
        "            if phase == 'val' and epoch_acc > best_acc:\n",
        "                best_acc = epoch_acc\n",
        "                best_model_wts = copy.deepcopy(model.state_dict())\n",
        "            if phase == 'val':\n",
        "                val_acc_history.append(epoch_acc)\n",
        "\n",
        "        print()\n",
        "\n",
        "    time_elapsed = time.time() - since\n",
        "    print('Training complete in {:.0f}m {:.0f}s'.format(time_elapsed // 60, time_elapsed % 60))\n",
        "    print('Best val Acc: {:4f}'.format(best_acc))\n",
        "\n",
        "    # load best model weights\n",
        "    model.load_state_dict(best_model_wts)\n",
        "    return model, val_acc_history"
      ],
      "execution_count": 179,
      "outputs": []
    },
    {
      "cell_type": "code",
      "metadata": {
        "colab": {
          "base_uri": "https://localhost:8080/"
        },
        "id": "7rgIij5Oe1l2",
        "outputId": "772f3ea8-5a4a-4201-f74c-bb29729aba5e"
      },
      "source": [
        "num_epochs = 70\n",
        "# Train and evaluate\n",
        "model_ft, hist = train_model(InceptionV3, dataloaders_dict, criterion, optimizer_ft, num_epochs=num_epochs, is_inception=True)"
      ],
      "execution_count": 180,
      "outputs": [
        {
          "output_type": "stream",
          "text": [
            "Epoch 0/69\n",
            "----------\n",
            "train Loss: 8.0073 Acc: 0.0079\n",
            "val Loss: 5.6232 Acc: 0.0118\n",
            "\n",
            "Epoch 1/69\n",
            "----------\n",
            "train Loss: 7.8514 Acc: 0.0157\n",
            "val Loss: 5.4482 Acc: 0.0354\n",
            "\n",
            "Epoch 2/69\n",
            "----------\n",
            "train Loss: 7.6105 Acc: 0.0380\n",
            "val Loss: 5.2859 Acc: 0.0459\n",
            "\n",
            "Epoch 3/69\n",
            "----------\n",
            "train Loss: 7.4149 Acc: 0.0485\n",
            "val Loss: 5.1573 Acc: 0.0472\n",
            "\n",
            "Epoch 4/69\n",
            "----------\n",
            "train Loss: 7.2785 Acc: 0.0459\n",
            "val Loss: 5.0613 Acc: 0.0550\n",
            "\n",
            "Epoch 5/69\n",
            "----------\n",
            "train Loss: 7.1280 Acc: 0.0590\n",
            "val Loss: 4.9850 Acc: 0.0708\n",
            "\n",
            "Epoch 6/69\n",
            "----------\n",
            "train Loss: 7.0601 Acc: 0.0708\n",
            "val Loss: 4.9188 Acc: 0.0917\n",
            "\n",
            "Epoch 7/69\n",
            "----------\n",
            "train Loss: 6.9443 Acc: 0.0799\n",
            "val Loss: 4.8625 Acc: 0.1075\n",
            "\n",
            "Epoch 8/69\n",
            "----------\n",
            "train Loss: 6.8769 Acc: 0.0917\n",
            "val Loss: 4.8093 Acc: 0.1153\n",
            "\n",
            "Epoch 9/69\n",
            "----------\n",
            "train Loss: 6.8029 Acc: 0.0944\n",
            "val Loss: 4.7632 Acc: 0.1298\n",
            "\n",
            "Epoch 10/69\n",
            "----------\n",
            "train Loss: 6.7263 Acc: 0.1127\n",
            "val Loss: 4.7177 Acc: 0.1376\n",
            "\n",
            "Epoch 11/69\n",
            "----------\n",
            "train Loss: 6.6700 Acc: 0.1140\n",
            "val Loss: 4.6737 Acc: 0.1429\n",
            "\n",
            "Epoch 12/69\n",
            "----------\n",
            "train Loss: 6.6188 Acc: 0.1206\n",
            "val Loss: 4.6320 Acc: 0.1586\n",
            "\n",
            "Epoch 13/69\n",
            "----------\n",
            "train Loss: 6.5551 Acc: 0.1363\n",
            "val Loss: 4.5914 Acc: 0.1599\n",
            "\n",
            "Epoch 14/69\n",
            "----------\n",
            "train Loss: 6.4908 Acc: 0.1468\n",
            "val Loss: 4.5515 Acc: 0.1730\n",
            "\n",
            "Epoch 15/69\n",
            "----------\n",
            "train Loss: 6.4401 Acc: 0.1455\n",
            "val Loss: 4.5129 Acc: 0.1730\n",
            "\n",
            "Epoch 16/69\n",
            "----------\n",
            "train Loss: 6.3646 Acc: 0.1533\n",
            "val Loss: 4.4753 Acc: 0.1756\n",
            "\n",
            "Epoch 17/69\n",
            "----------\n",
            "train Loss: 6.3444 Acc: 0.1730\n",
            "val Loss: 4.4365 Acc: 0.1940\n",
            "\n",
            "Epoch 18/69\n",
            "----------\n",
            "train Loss: 6.2909 Acc: 0.1494\n",
            "val Loss: 4.4051 Acc: 0.1913\n",
            "\n",
            "Epoch 19/69\n",
            "----------\n",
            "train Loss: 6.2362 Acc: 0.1704\n",
            "val Loss: 4.3679 Acc: 0.1953\n",
            "\n",
            "Epoch 20/69\n",
            "----------\n",
            "train Loss: 6.1897 Acc: 0.1769\n",
            "val Loss: 4.3350 Acc: 0.2058\n",
            "\n",
            "Epoch 21/69\n",
            "----------\n",
            "train Loss: 6.1339 Acc: 0.1782\n",
            "val Loss: 4.3006 Acc: 0.2189\n",
            "\n",
            "Epoch 22/69\n",
            "----------\n",
            "train Loss: 6.0885 Acc: 0.1913\n",
            "val Loss: 4.2681 Acc: 0.2149\n",
            "\n",
            "Epoch 23/69\n",
            "----------\n",
            "train Loss: 6.0593 Acc: 0.1900\n",
            "val Loss: 4.2339 Acc: 0.2176\n",
            "\n",
            "Epoch 24/69\n",
            "----------\n",
            "train Loss: 6.0177 Acc: 0.2110\n",
            "val Loss: 4.2045 Acc: 0.2254\n",
            "\n",
            "Epoch 25/69\n",
            "----------\n",
            "train Loss: 5.9465 Acc: 0.2058\n",
            "val Loss: 4.1719 Acc: 0.2346\n",
            "\n",
            "Epoch 26/69\n",
            "----------\n",
            "train Loss: 5.9073 Acc: 0.2149\n",
            "val Loss: 4.1405 Acc: 0.2307\n",
            "\n",
            "Epoch 27/69\n",
            "----------\n",
            "train Loss: 5.8511 Acc: 0.2176\n",
            "val Loss: 4.1087 Acc: 0.2385\n",
            "\n",
            "Epoch 28/69\n",
            "----------\n",
            "train Loss: 5.8324 Acc: 0.2136\n",
            "val Loss: 4.0793 Acc: 0.2569\n",
            "\n",
            "Epoch 29/69\n",
            "----------\n",
            "train Loss: 5.8128 Acc: 0.2307\n",
            "val Loss: 4.0492 Acc: 0.2674\n",
            "\n",
            "Epoch 30/69\n",
            "----------\n",
            "train Loss: 5.7420 Acc: 0.2267\n",
            "val Loss: 4.0179 Acc: 0.2621\n",
            "\n",
            "Epoch 31/69\n",
            "----------\n",
            "train Loss: 5.7112 Acc: 0.2398\n",
            "val Loss: 3.9884 Acc: 0.2739\n",
            "\n",
            "Epoch 32/69\n",
            "----------\n",
            "train Loss: 5.6688 Acc: 0.2385\n",
            "val Loss: 3.9589 Acc: 0.2844\n",
            "\n",
            "Epoch 33/69\n",
            "----------\n",
            "train Loss: 5.6288 Acc: 0.2412\n",
            "val Loss: 3.9300 Acc: 0.2857\n",
            "\n",
            "Epoch 34/69\n",
            "----------\n",
            "train Loss: 5.5755 Acc: 0.2464\n",
            "val Loss: 3.9035 Acc: 0.2975\n",
            "\n",
            "Epoch 35/69\n",
            "----------\n",
            "train Loss: 5.5483 Acc: 0.2595\n",
            "val Loss: 3.8732 Acc: 0.3028\n",
            "\n",
            "Epoch 36/69\n",
            "----------\n",
            "train Loss: 5.5201 Acc: 0.2608\n",
            "val Loss: 3.8411 Acc: 0.3119\n",
            "\n",
            "Epoch 37/69\n",
            "----------\n",
            "train Loss: 5.4758 Acc: 0.2621\n",
            "val Loss: 3.8146 Acc: 0.3145\n",
            "\n",
            "Epoch 38/69\n",
            "----------\n",
            "train Loss: 5.4280 Acc: 0.2713\n",
            "val Loss: 3.7868 Acc: 0.3237\n",
            "\n",
            "Epoch 39/69\n",
            "----------\n",
            "train Loss: 5.3877 Acc: 0.2765\n",
            "val Loss: 3.7604 Acc: 0.3277\n",
            "\n",
            "Epoch 40/69\n",
            "----------\n",
            "train Loss: 5.3597 Acc: 0.2896\n",
            "val Loss: 3.7342 Acc: 0.3316\n",
            "\n",
            "Epoch 41/69\n",
            "----------\n",
            "train Loss: 5.3111 Acc: 0.2975\n",
            "val Loss: 3.7077 Acc: 0.3368\n",
            "\n",
            "Epoch 42/69\n",
            "----------\n",
            "train Loss: 5.3016 Acc: 0.2844\n",
            "val Loss: 3.6835 Acc: 0.3394\n",
            "\n",
            "Epoch 43/69\n",
            "----------\n",
            "train Loss: 5.2640 Acc: 0.3014\n",
            "val Loss: 3.6592 Acc: 0.3421\n",
            "\n",
            "Epoch 44/69\n",
            "----------\n",
            "train Loss: 5.2182 Acc: 0.3159\n",
            "val Loss: 3.6269 Acc: 0.3447\n",
            "\n",
            "Epoch 45/69\n",
            "----------\n",
            "train Loss: 5.2013 Acc: 0.2988\n",
            "val Loss: 3.6011 Acc: 0.3486\n",
            "\n",
            "Epoch 46/69\n",
            "----------\n",
            "train Loss: 5.1653 Acc: 0.3028\n",
            "val Loss: 3.5755 Acc: 0.3630\n",
            "\n",
            "Epoch 47/69\n",
            "----------\n",
            "train Loss: 5.1165 Acc: 0.3237\n",
            "val Loss: 3.5495 Acc: 0.3644\n",
            "\n",
            "Epoch 48/69\n",
            "----------\n",
            "train Loss: 5.0951 Acc: 0.3224\n",
            "val Loss: 3.5282 Acc: 0.3657\n",
            "\n",
            "Epoch 49/69\n",
            "----------\n",
            "train Loss: 5.0709 Acc: 0.3132\n",
            "val Loss: 3.5013 Acc: 0.3722\n",
            "\n",
            "Epoch 50/69\n",
            "----------\n",
            "train Loss: 5.0055 Acc: 0.3368\n",
            "val Loss: 3.4770 Acc: 0.3788\n",
            "\n",
            "Epoch 51/69\n",
            "----------\n",
            "train Loss: 4.9922 Acc: 0.3277\n",
            "val Loss: 3.4496 Acc: 0.3814\n",
            "\n",
            "Epoch 52/69\n",
            "----------\n",
            "train Loss: 4.9632 Acc: 0.3250\n",
            "val Loss: 3.4264 Acc: 0.3853\n",
            "\n",
            "Epoch 53/69\n",
            "----------\n",
            "train Loss: 4.9337 Acc: 0.3526\n",
            "val Loss: 3.4037 Acc: 0.3919\n",
            "\n",
            "Epoch 54/69\n",
            "----------\n",
            "train Loss: 4.9039 Acc: 0.3604\n",
            "val Loss: 3.3786 Acc: 0.4024\n",
            "\n",
            "Epoch 55/69\n",
            "----------\n",
            "train Loss: 4.8606 Acc: 0.3316\n",
            "val Loss: 3.3575 Acc: 0.3997\n",
            "\n",
            "Epoch 56/69\n",
            "----------\n",
            "train Loss: 4.8467 Acc: 0.3342\n",
            "val Loss: 3.3323 Acc: 0.4037\n",
            "\n",
            "Epoch 57/69\n",
            "----------\n",
            "train Loss: 4.7936 Acc: 0.3644\n",
            "val Loss: 3.3096 Acc: 0.4063\n",
            "\n",
            "Epoch 58/69\n",
            "----------\n",
            "train Loss: 4.7654 Acc: 0.3578\n",
            "val Loss: 3.2896 Acc: 0.4194\n",
            "\n",
            "Epoch 59/69\n",
            "----------\n",
            "train Loss: 4.7294 Acc: 0.3709\n",
            "val Loss: 3.2671 Acc: 0.4233\n",
            "\n",
            "Epoch 60/69\n",
            "----------\n",
            "train Loss: 4.6879 Acc: 0.3801\n",
            "val Loss: 3.2428 Acc: 0.4351\n",
            "\n",
            "Epoch 61/69\n",
            "----------\n",
            "train Loss: 4.6980 Acc: 0.3683\n",
            "val Loss: 3.2202 Acc: 0.4443\n",
            "\n",
            "Epoch 62/69\n",
            "----------\n",
            "train Loss: 4.6487 Acc: 0.3840\n",
            "val Loss: 3.1966 Acc: 0.4469\n",
            "\n",
            "Epoch 63/69\n",
            "----------\n",
            "train Loss: 4.5925 Acc: 0.4089\n",
            "val Loss: 3.1742 Acc: 0.4482\n",
            "\n",
            "Epoch 64/69\n",
            "----------\n",
            "train Loss: 4.5731 Acc: 0.3919\n",
            "val Loss: 3.1473 Acc: 0.4548\n",
            "\n",
            "Epoch 65/69\n",
            "----------\n",
            "train Loss: 4.5564 Acc: 0.3919\n",
            "val Loss: 3.1248 Acc: 0.4613\n",
            "\n",
            "Epoch 66/69\n",
            "----------\n",
            "train Loss: 4.5385 Acc: 0.3958\n",
            "val Loss: 3.1107 Acc: 0.4692\n",
            "\n",
            "Epoch 67/69\n",
            "----------\n",
            "train Loss: 4.4946 Acc: 0.4325\n",
            "val Loss: 3.0886 Acc: 0.4731\n",
            "\n",
            "Epoch 68/69\n",
            "----------\n",
            "train Loss: 4.4735 Acc: 0.4050\n",
            "val Loss: 3.0653 Acc: 0.4731\n",
            "\n",
            "Epoch 69/69\n",
            "----------\n",
            "train Loss: 4.4416 Acc: 0.4233\n",
            "val Loss: 3.0433 Acc: 0.4836\n",
            "\n",
            "Training complete in 8m 5s\n",
            "Best val Acc: 0.483617\n"
          ],
          "name": "stdout"
        }
      ]
    },
    {
      "cell_type": "code",
      "metadata": {
        "colab": {
          "base_uri": "https://localhost:8080/"
        },
        "id": "0Q4WNIvlDQxi",
        "outputId": "759011f0-cbfe-4c0d-fb97-88b1a004c3d5"
      },
      "source": [
        "loss = nn.CrossEntropyLoss()\n",
        "input = torch.randn(3, 5, requires_grad=True)\n",
        "print(input.shape)\n",
        "target = torch.empty(3, dtype=torch.long).random_(5)\n",
        "print(target.shape)\n",
        "#output = loss(input, target)\n",
        "#output.backward()"
      ],
      "execution_count": 160,
      "outputs": [
        {
          "output_type": "stream",
          "text": [
            "torch.Size([3, 5])\n",
            "torch.Size([3])\n"
          ],
          "name": "stdout"
        }
      ]
    }
  ]
}